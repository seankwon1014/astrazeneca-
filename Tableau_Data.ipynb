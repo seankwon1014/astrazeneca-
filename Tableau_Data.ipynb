{
 "cells": [
  {
   "cell_type": "markdown",
   "metadata": {},
   "source": [
    "# Import Modules"
   ]
  },
  {
   "cell_type": "code",
   "execution_count": 1,
   "metadata": {},
   "outputs": [],
   "source": [
    "import json  \n",
    "import pandas as pd  \n",
    "from pandas.io.json import json_normalize  \n",
    "import numpy as np\n",
    "import time"
   ]
  },
  {
   "cell_type": "markdown",
   "metadata": {},
   "source": [
    "# Data Load"
   ]
  },
  {
   "cell_type": "code",
   "execution_count": 2,
   "metadata": {},
   "outputs": [],
   "source": [
    "def loading_data(temp):\n",
    "    data = pd.DataFrame()\n",
    "    data['safetyreportid'] = temp['safetyreportid']  # read 'safetyreportid' column\n",
    "    data['country'] = temp['occurcountry']  # read 'country' column\n",
    "    \n",
    "    data['patient.reaction'] = temp['patient.reaction'].apply(lambda x: x) # read 'patient.reaction' column\n",
    "    stack = data.apply(lambda x: pd.Series(x['patient.reaction']), axis=1).stack().reset_index(level=1, drop=True) # split patient.reaction(list) to each different row\n",
    "    stack.name = 'patient.reaction' # set the name\n",
    "    data = data.drop('patient.reaction', axis=1) # drop patient.reaction column\n",
    "    data = data.join(stack)\n",
    "        \n",
    "    data['reactionmeddrapt'] = data['patient.reaction'].apply(lambda x: x['reactionmeddrapt'])  # read 'reactionmeddrapt' from 'patient.reaction'\n",
    "    data.drop('patient.reaction', axis = 1, inplace=True)  # remove unnecessary columns\n",
    "    return data\n",
    "    "
   ]
  },
  {
   "cell_type": "code",
   "execution_count": 3,
   "metadata": {},
   "outputs": [
    {
     "data": {
      "text/plain": [
       "66.9860805273056"
      ]
     },
     "execution_count": 3,
     "metadata": {},
     "output_type": "execute_result"
    }
   ],
   "source": [
    "start = time.time() \n",
    "\n",
    "df = pd.DataFrame()\n",
    "for i in range(1,134):\n",
    "    a = 'data (' + str(i) + ').json'\n",
    "    with open(a) as f:\n",
    "        d = json.load(f) \n",
    "    result = json_normalize(d['results']) \n",
    "    temp = loading_data(result)\n",
    "    df = pd.concat([df, temp], sort=False)\n",
    "\n",
    "    \n",
    "end = time.time()\n",
    "(end - start)/60"
   ]
  },
  {
   "cell_type": "code",
   "execution_count": 5,
   "metadata": {},
   "outputs": [],
   "source": [
    "# df.to_csv('C:\\AstraZeneca\\df.csv')"
   ]
  },
  {
   "cell_type": "code",
   "execution_count": 60,
   "metadata": {},
   "outputs": [],
   "source": [
    "# df = pd.read_csv('C:\\AstraZeneca\\df.csv')"
   ]
  },
  {
   "cell_type": "markdown",
   "metadata": {},
   "source": [
    "# Data Cleansing"
   ]
  },
  {
   "cell_type": "code",
   "execution_count": 63,
   "metadata": {},
   "outputs": [],
   "source": [
    "# Drop missing value\n",
    "\n",
    "df.dropna(inplace=True)"
   ]
  },
  {
   "cell_type": "markdown",
   "metadata": {},
   "source": [
    "### Aggregation with the number of cases by a country"
   ]
  },
  {
   "cell_type": "code",
   "execution_count": 64,
   "metadata": {},
   "outputs": [],
   "source": [
    "cnt_cntr = pd.DataFrame({'total_case': df['country'].value_counts()})\n",
    "df = pd.DataFrame(df.groupby(['country','reactionmeddrapt']).size(), columns=['count']).reset_index('reactionmeddrapt')\n",
    "df = df.join(cnt_cntr)"
   ]
  },
  {
   "cell_type": "markdown",
   "metadata": {},
   "source": [
    "### Add percent of cases by a country"
   ]
  },
  {
   "cell_type": "code",
   "execution_count": 67,
   "metadata": {},
   "outputs": [],
   "source": [
    "df['percent'] = df['count'] / df['total_case']"
   ]
  },
  {
   "cell_type": "code",
   "execution_count": 68,
   "metadata": {},
   "outputs": [],
   "source": [
    "df = df.reset_index().rename(columns={'index': 'country'})"
   ]
  },
  {
   "cell_type": "markdown",
   "metadata": {},
   "source": [
    "### Add rank by a country"
   ]
  },
  {
   "cell_type": "code",
   "execution_count": 77,
   "metadata": {},
   "outputs": [],
   "source": [
    "df['rank'] = df.groupby('country')['percent'].rank(\"dense\", ascending=False)"
   ]
  },
  {
   "cell_type": "code",
   "execution_count": 80,
   "metadata": {},
   "outputs": [],
   "source": [
    "# Final data\n",
    "\n",
    "df.to_csv('C:/AstraZeneca/table.csv')"
   ]
  }
 ],
 "metadata": {
  "kernelspec": {
   "display_name": "Python 3",
   "language": "python",
   "name": "python3"
  },
  "language_info": {
   "codemirror_mode": {
    "name": "ipython",
    "version": 3
   },
   "file_extension": ".py",
   "mimetype": "text/x-python",
   "name": "python",
   "nbconvert_exporter": "python",
   "pygments_lexer": "ipython3",
   "version": "3.7.3"
  }
 },
 "nbformat": 4,
 "nbformat_minor": 2
}
